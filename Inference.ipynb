{
 "cells": [
  {
   "cell_type": "code",
   "execution_count": null,
   "metadata": {},
   "outputs": [],
   "source": [
    "import os"
   ]
  },
  {
   "cell_type": "code",
   "execution_count": null,
   "metadata": {},
   "outputs": [],
   "source": [
    "# Zoom level \n",
    "zoom_level = 17 \n",
    "\n",
    "# Folder paths where you want to save image tiles\n",
    "block_name = 'around_masalia' #'masalia_subset'\n",
    "data_download_folder = os.path.join(os.environ['DATA'],\n",
    "                                    'ponds_and_wells',\n",
    "                                    str(zoom_level),\n",
    "                                    block_name)\n",
    "data_download_folder"
   ]
  },
  {
   "cell_type": "code",
   "execution_count": null,
   "metadata": {},
   "outputs": [],
   "source": [
    "# Scale of image tile\n",
    "scale = 1           # scale of 1 = 256*256 dimensional image\n",
    "\n",
    "# Entropy threshold needed to calculate entropy (only in wet ponds case)\n",
    "entropy_threshold = 2.5"
   ]
  },
  {
   "cell_type": "code",
   "execution_count": null,
   "metadata": {},
   "outputs": [],
   "source": [
    "model_path = os.path.join(os.environ['MODELS'],\n",
    "                          'ponds_and_wells',\n",
    "                          'Ponds_best.pt')\n",
    "\n",
    "csv_file = os.path.join(\n",
    "    data_download_folder,\n",
    "    block_name + \n",
    "    '.csv'\n",
    ")\n",
    "print(csv_file)"
   ]
  },
  {
   "cell_type": "code",
   "execution_count": null,
   "metadata": {},
   "outputs": [],
   "source": [
    "topLeft = [87.17053768466987,24.139038123063]\n",
    "topRight = [87.17703935932197,24.139038123063]\n",
    "bottomRight = [87.17703935932197,24.143874618138323]\n",
    "bottomLeft = [87.17053768466987,24.143874618138323]"
   ]
  },
  {
   "cell_type": "code",
   "execution_count": null,
   "metadata": {},
   "outputs": [],
   "source": [
    "# %pip install segment-geospatial"
   ]
  },
  {
   "cell_type": "code",
   "execution_count": null,
   "metadata": {},
   "outputs": [],
   "source": [
    "import os\n",
    "import leafmap\n",
    "from samgeo import SamGeo, tms_to_geotiff"
   ]
  },
  {
   "cell_type": "code",
   "execution_count": null,
   "metadata": {},
   "outputs": [],
   "source": [
    "m = leafmap.Map(center=[37.6412, -122.1353], zoom=15, height=\"800px\")\n",
    "m.add_basemap(\"SATELLITE\")\n",
    "m"
   ]
  },
  {
   "cell_type": "code",
   "execution_count": null,
   "metadata": {},
   "outputs": [],
   "source": [
    "if m.user_roi is not None:\n",
    "    bbox = m.user_roi_bounds()\n",
    "else:\n",
    "    # bbox = [-122.1497, 37.6311, -122.1203, 37.6458]\n",
    "    bbox = [87.1705,24.1390,]"
   ]
  },
  {
   "cell_type": "code",
   "execution_count": null,
   "metadata": {},
   "outputs": [],
   "source": [
    "image = \"satellite.tif\"\n",
    "tms_to_geotiff(output=image, bbox=bbox, zoom=16, source=\"Satellite\", overwrite=True)"
   ]
  }
 ],
 "metadata": {
  "kernelspec": {
   "display_name": ".venv",
   "language": "python",
   "name": "python3"
  },
  "language_info": {
   "codemirror_mode": {
    "name": "ipython",
    "version": 3
   },
   "file_extension": ".py",
   "mimetype": "text/x-python",
   "name": "python",
   "nbconvert_exporter": "python",
   "pygments_lexer": "ipython3",
   "version": "3.12.3"
  }
 },
 "nbformat": 4,
 "nbformat_minor": 2
}
